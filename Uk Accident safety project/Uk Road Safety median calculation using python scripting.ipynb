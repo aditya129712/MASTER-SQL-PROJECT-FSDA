{
 "cells": [
  {
   "cell_type": "markdown",
   "metadata": {},
   "source": [
    "## Python Connector for Mysql for Calculating the Median severity"
   ]
  },
  {
   "cell_type": "code",
   "execution_count": 1,
   "metadata": {},
   "outputs": [
    {
     "name": "stdout",
     "output_type": "stream",
     "text": [
      "Collecting pymysql\n",
      "  Downloading PyMySQL-1.0.2-py3-none-any.whl (43 kB)\n",
      "     -------------------------------------- 43.8/43.8 kB 533.1 kB/s eta 0:00:00\n",
      "Installing collected packages: pymysql\n",
      "Successfully installed pymysql-1.0.2\n"
     ]
    }
   ],
   "source": [
    "###Installing the package\n",
    "!pip install pymysql"
   ]
  },
  {
   "cell_type": "code",
   "execution_count": 2,
   "metadata": {},
   "outputs": [],
   "source": [
    "###import the library\n",
    "import pymysql"
   ]
  },
  {
   "cell_type": "code",
   "execution_count": 4,
   "metadata": {},
   "outputs": [],
   "source": [
    "### Creating the connection\n",
    "myConnection = pymysql.connect(\n",
    "    host=\"localhost\", user=\"root\", password=\"aditya@12\", db=\"ag_uk_safety_database\")"
   ]
  },
  {
   "cell_type": "code",
   "execution_count": 5,
   "metadata": {},
   "outputs": [],
   "source": [
    "### creating the cursor\n",
    "cur = myConnection.cursor()"
   ]
  },
  {
   "cell_type": "code",
   "execution_count": 6,
   "metadata": {},
   "outputs": [
    {
     "data": {
      "text/plain": [
       "6"
      ]
     },
     "execution_count": 6,
     "metadata": {},
     "output_type": "execute_result"
    }
   ],
   "source": [
    "###Executing or calling the datafrom vehicle_type dataset\n",
    "cur.execute(\n",
    "    \"SELECT vehicle_type FROM vehicle_types WHERE vehicle_type LIKE '%motorcycle%';\")"
   ]
  },
  {
   "cell_type": "code",
   "execution_count": 7,
   "metadata": {},
   "outputs": [],
   "source": [
    "### Storing the fetched data into variable\n",
    "cycle_list = cur.fetchall()"
   ]
  },
  {
   "cell_type": "markdown",
   "metadata": {},
   "source": [
    "### TASK-1 Evaluate the median severity value of accidents caused by various Motorcycles."
   ]
  },
  {
   "cell_type": "code",
   "execution_count": 8,
   "metadata": {},
   "outputs": [],
   "source": [
    "### Joining the different tables into one from executing the results\n",
    "selectSQL = ('''\n",
    "SELECT vt.vehicle_type, a.accident_severity\n",
    "FROM accident a\n",
    "INNER JOIN vehicles v ON a.accident_index = v.accident_index\n",
    "INNER JOIN vehicle_types vt ON v.vehicle_type = vt.vehicle_code\n",
    "WHERE vt.vehicle_type LIKE %s\n",
    "ORDER BY a.accident_severity;\n",
    "''')"
   ]
  },
  {
   "cell_type": "code",
   "execution_count": 9,
   "metadata": {},
   "outputs": [],
   "source": [
    "### Insert into the accident_median table\n",
    "insert_SQL = ('''INSERT INTO accidents_median\n",
    "VALUES(%s, %s);''')"
   ]
  },
  {
   "cell_type": "code",
   "execution_count": 10,
   "metadata": {},
   "outputs": [
    {
     "name": "stdout",
     "output_type": "stream",
     "text": [
      "finding Median Severity for  Motorcycle 50cc and under\n",
      "finding Median Severity for  Motorcycle 125cc and under\n",
      "finding Median Severity for  Motorcycle over 125cc and up to 500cc\n",
      "finding Median Severity for  Motorcycle over 500cc\n",
      "finding Median Severity for  Electric motorcycle\n",
      "finding Median Severity for  Motorcycle - unknown cc\n"
     ]
    }
   ],
   "source": [
    "### Creating the for loop to execute the median of accident of Uk road safety project and close the connection and commit the connetion\n",
    "for cycle in cycle_list:\n",
    "    cur.execute(selectSQL, cycle[0])\n",
    "    accidents = cur.fetchall()\n",
    "\n",
    "    # calculate median severity\n",
    "    # divide the length of accidents /2 to find the median of accdients list\n",
    "    quotient, remainder = divmod(len(accidents), 2)\n",
    "\n",
    "    if remainder:\n",
    "        # meaning odds number of items in accidents list\n",
    "        median_severity = accidents[quotient][1]\n",
    "    else:\n",
    "        # even numbers of items in accidents list\n",
    "        median_severity = (accidents[quotient]\n",
    "                           [1] + accidents[quotient + 2][1]) / 2\n",
    "\n",
    "    print(\"finding Median Severity for \", cycle[0])\n",
    "\n",
    "    # insert the calculated median severity into table\n",
    "    cur.execute(insert_SQL, (cycle[0], median_severity))\n",
    "\n",
    "myConnection.commit()\n",
    "myConnection.close()"
   ]
  }
 ],
 "metadata": {
  "kernelspec": {
   "display_name": "Python 3.10.8 64-bit (microsoft store)",
   "language": "python",
   "name": "python3"
  },
  "language_info": {
   "codemirror_mode": {
    "name": "ipython",
    "version": 3
   },
   "file_extension": ".py",
   "mimetype": "text/x-python",
   "name": "python",
   "nbconvert_exporter": "python",
   "pygments_lexer": "ipython3",
   "version": "3.10.8"
  },
  "orig_nbformat": 4,
  "vscode": {
   "interpreter": {
    "hash": "65a440aeac0c89e2af7569e0aa53b64434c4b69eb6285e2b0d174d9bca190d54"
   }
  }
 },
 "nbformat": 4,
 "nbformat_minor": 2
}
